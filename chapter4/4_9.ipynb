{
 "cells": [
  {
   "cell_type": "code",
   "execution_count": 21,
   "metadata": {},
   "outputs": [],
   "source": [
    "import torch\n",
    "import torch.nn as nn\n",
    "\n",
    "\n",
    "torch.manual_seed(0)\n",
    "n_train = 1000\n",
    "n_test = 200\n",
    "\n",
    "X_train = torch.normal(0,1,size=(n_train, 2))\n",
    "y_train = torch.bernoulli(torch.full((n_train,), 0.5)).long()\n",
    "\n",
    "X_test = torch.normal(1, 1, (n_test, 2))\n",
    "y_test = torch.bernoulli(torch.full((n_test,), 0.5)).long() #输出分布保持一致\n",
    "\n",
    "model = nn.Sequential(\n",
    "    nn.Linear(2, 16),\n",
    "    nn.ReLU(),\n",
    "    nn.Linear(16, 2)\n",
    ")\n",
    "loss = nn.CrossEntropyLoss()\n",
    "optim = torch.optim.SGD(model.parameters(), lr=0.1)\n",
    "\n",
    "# 训练\n",
    "for epoch in range(20):\n",
    "    model.train() \n",
    "    optim.zero_grad()\n",
    "    l = loss(model(X_train), y_train)\n",
    "    l.backward()\n",
    "    optim.step()\n",
    "\n",
    "\n"
   ]
  },
  {
   "cell_type": "code",
   "execution_count": 22,
   "metadata": {},
   "outputs": [
    {
     "name": "stdout",
     "output_type": "stream",
     "text": [
      "tensor(0.4910)   tensor(0.5550)\n"
     ]
    }
   ],
   "source": [
    "out = torch.argmax(model(X_train), axis=1)\n",
    "train_accuracy = (out == y_train).float().mean()\n",
    "predicted = torch.argmax(model(X_test), axis=1)\n",
    "test_accuracy = (predicted == y_test).float().mean()\n",
    "print(train_accuracy,' ',test_accuracy)"
   ]
  }
 ],
 "metadata": {
  "kernelspec": {
   "display_name": "NNDL",
   "language": "python",
   "name": "nndl"
  },
  "language_info": {
   "codemirror_mode": {
    "name": "ipython",
    "version": 3
   },
   "file_extension": ".py",
   "mimetype": "text/x-python",
   "name": "python",
   "nbconvert_exporter": "python",
   "pygments_lexer": "ipython3",
   "version": "3.9.0"
  }
 },
 "nbformat": 4,
 "nbformat_minor": 2
}
