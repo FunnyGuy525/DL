{
 "cells": [
  {
   "cell_type": "code",
   "execution_count": 1,
   "metadata": {},
   "outputs": [],
   "source": [
    "import torch\n",
    "import torch.nn as nn\n"
   ]
  },
  {
   "cell_type": "code",
   "execution_count": 6,
   "metadata": {},
   "outputs": [
    {
     "name": "stdout",
     "output_type": "stream",
     "text": [
      "Input:\n",
      "tensor([[0.0121, 0.8635, 0.5801]])\n",
      "\n",
      "Output:\n",
      "tensor([[-2.2759,  1.0463]], grad_fn=<SumBackward1>)\n"
     ]
    }
   ],
   "source": [
    "class Reduction(nn.Module):\n",
    "    def __init__(self, in_dim, out_dim) -> None:\n",
    "        super().__init__()\n",
    "\n",
    "        self.weight = nn.Parameter(torch.randn(in_dim, in_dim, out_dim))\n",
    "\n",
    "    def forward(self,x):\n",
    "\n",
    "        x_outer = torch.einsum('bi,bj->bij', x, x)\n",
    "        x_weighted = torch.einsum('bij,jkl->bil', x_outer, self.weight)\n",
    "        return x_weighted.sum(dim=1)\n",
    "\n",
    "batch_size = 1\n",
    "in_dim = 3\n",
    "out_dim = 2\n",
    "\n",
    "model = Reduction(in_dim, out_dim)\n",
    "\n",
    "x = torch.randn(batch_size, in_dim)\n",
    "output = model.forward(x)\n",
    "\n",
    "print(\"Input:\")\n",
    "print(x)\n",
    "print(\"\\nOutput:\")\n",
    "print(output)"
   ]
  },
  {
   "cell_type": "code",
   "execution_count": 7,
   "metadata": {},
   "outputs": [
    {
     "data": {
      "text/plain": [
       "tensor([[[ 1.4397+0.0000j, -0.1286+0.2895j],\n",
       "         [ 1.6399+0.0000j, -1.0664+0.4352j]]])"
      ]
     },
     "execution_count": 7,
     "metadata": {},
     "output_type": "execute_result"
    }
   ],
   "source": [
    "import torch.fft as fft\n",
    "\n",
    "class FourierLayer(nn.Module):\n",
    "    def __init__(self):\n",
    "        super().__init__()\n",
    "    def forward(self, X):\n",
    "        X = fft.fft(X) #对输入X进行快速傅里叶变换\n",
    "        X = X[:,:,:X.shape[2]//2] # 取出前半部分\n",
    "        return X\n",
    "\n",
    "X = torch.rand(1, 2, 5)\n",
    "net = FourierLayer()\n",
    "net(X)"
   ]
  }
 ],
 "metadata": {
  "kernelspec": {
   "display_name": "NNDL",
   "language": "python",
   "name": "nndl"
  },
  "language_info": {
   "codemirror_mode": {
    "name": "ipython",
    "version": 3
   },
   "file_extension": ".py",
   "mimetype": "text/x-python",
   "name": "python",
   "nbconvert_exporter": "python",
   "pygments_lexer": "ipython3",
   "version": "3.9.0"
  }
 },
 "nbformat": 4,
 "nbformat_minor": 2
}
